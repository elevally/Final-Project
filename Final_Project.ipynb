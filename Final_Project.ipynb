{
 "cells": [
  {
   "cell_type": "markdown",
   "metadata": {},
   "source": [
    "# Eric LeVally\n",
    "\n",
    "## Introduction\n",
    "\n",
    "A missile flying through the air can be considered a driven projectile in motion.  A missile propels itself by ejecting ignited fuel in the opposite direction of desired motion.  Other than this driving force, the only other forces acting on the missile that I will be modelling are the forces caused by the acceleration of gravity, and the drag force.  Both of these forces, in some way, depend on altitude.  The gravity at any given distance from the center of the Earth is given by the equation: \n",
    "$$g = GM/r^{2}$$ \n",
    "where G is the gravitational constant $6.67408 \\times 10^{-11}m^{3}kg^{-1}s^{-2}$, M is the mass of the Earth in kilograms ($5.972 \\times 10^{24}kg$), and r is the distance between the center of the Earth and the object in meters.  The magnitude of the drag force is given by the equation \n",
    "$$F_{drag} \\approx -C\\rho A \\upsilon^{2}$$\n",
    "where C is the drag coefficient, $\\rho$ is the density of the air, A is the frontal area of the object, and $\\upsilon$ is the velocity of the object.  This equation depends on the density of the air, which we know has different values at different altitudes.  The density of the air at a given altitude is given by the equation \n",
    "$$\\rho = \\rho_{0} exp(-y/y_{0})$$\n",
    "where y is the altitude, $y_{0} = 1.0 x 10^{4}m$ and $\\rho_{0}$ is the density at sea level (y=0).  This gives us that the drag force due to air resistance is actually \n",
    "$$F^{*}_{drag} = \\frac{\\rho}{\\rho_{0}}F_{drag}(y=0)$$ "
   ]
  },
  {
   "cell_type": "markdown",
   "metadata": {},
   "source": [
    "## Model\n",
    "\n",
    "Euler's method allows us to approximate values for a solution of a differential equation.  So long as we are given a starting value x at some t, then we can write the value of x a short interval $h$ later using a Taylor expansion.  So we have that: $x(t+h) = x(t) + h\\frac{dx}{dt} + \\frac{1}{2}h^{2}\\frac{d^{2}x}{dt^{2}} +...$ which gives us $x(t+h) = hf(x,t) + O(h^{2})$ where $O(h^{2})$ is a shorthand for all of the terms that go as $h^{2}$ and higher.  If $h$ is small, then $h^{2}$ is significantly smaller, and can be ignored.  This allows us to toss out $O(h^{2})$ and leaves us with the following equation.\n",
    "$$ x(t+h) = x(t) + hf(x,t) $$ \n",
    "So long as h remains small enough, we can see fairly accurate solutions to our differential equations.  This means that the relevant controlling equations are those of a projectile.  Using the Euler method, they are: \n",
    "\n",
    "$$  x_{i+1} = x_{i} + v_{x,i}\\Delta t$$  Where $x_{i+1}$ is the x value at the current step, $x_{i}$ is the x value at the previous step, $v_{x,i}$ is the current x component of the velocity, and $\\Delta t$ is the change in time between steps.\n",
    "\n",
    "$$  v_{x,i+1} =  v_{x,i}$$ Where $v_{x,i+1}$ is the current x component of the velocity and $v_{x,i}$ is the previous x component of the velocity.\n",
    "\n",
    "$$  y_{i+1} = y_{i} + v_{y,i}\\Delta t$$  Where $y_{i+1}$ is the y value at the current step, $y_{i}$ is the y value at the previous step, and $v_{y,i}$ is the current y component of the velocity.\n",
    "\n",
    "$$  v_{y,i+1} =  v_{y,i} - g\\Delta t$$  Where $v_{y,i+1}$ is the current y component of the velocity, $v_{y,i}$ is now the previous y component of the velocity, and $g$ is the acceleration of gravity.\n",
    "\n",
    "The boundaries of this scenario will be that the minimum initial velocity of each projectile will be 3,000 m/s and the maximum of each will be 3,500 m/s. The firing angles will be a minimum of 20 degrees and a maximum of 75 degrees.  The initial height of the missiles will be at least sea level, and at most 10 kilometers above sea level.\n",
    "A missile will be coming at us with a random velocity at a random angle, and the program will calculate and output the correct angle and speed that the friendly intercepting missile will need to fire at in order to intercept the incoming missile at a maximum possible height. The output of the program should be an angle and a velocity."
   ]
  },
  {
   "cell_type": "markdown",
   "metadata": {},
   "source": [
    "## Might be useful later\n",
    "This cell is for code that has been previously written that might apply to this scenario, but might not. \n",
    "$$  v_{x,i+1} =  v_{x,i} - \\frac{B_{2}\\rho v v_{x,i}}{\\rho_{0} m}\\Delta t$$\n",
    "\n",
    "$$   y_{i+1} = t_{i} + v_{y,i}\\Delta t$$\n",
    "\n",
    "$$   v_{y,i+1} =  v_{y,i} - g\\Delta t - \\frac{B_{2}\\rho v v_{y,i}}{\\rho_{0}m}\\Delta t$$\n",
    "\n",
    "$$  g = \\frac{GM}{(y+6378\\times 10^{3})^2} $$"
   ]
  },
  {
   "cell_type": "code",
   "execution_count": 24,
   "metadata": {
    "collapsed": true
   },
   "outputs": [],
   "source": [
    "import numpy as np\n",
    "import math\n",
    "import matplotlib.pyplot as plt\n",
    "%matplotlib inline\n",
    "\n",
    "def gravity(y):\n",
    "    '''Uses the input to determine the acceleration of gravity\n",
    "    \n",
    "    input:\n",
    "    y = the height above sea level\n",
    "    \n",
    "    output:\n",
    "    g = the acceleration of gravity\n",
    "    \n",
    "    Example:\n",
    "    >>> gravity(1e5)\n",
    "    9.497937770425107\n",
    "    '''\n",
    "    \n",
    "    G = 6.67408e-11 #m^3kg^-1s^-2\n",
    "    M = 5.972e24 #kg\\\n",
    "    seaLevel = 6378.0e3\n",
    "    \n",
    "    \n",
    "    g = G*M/((seaLevel+y)**2)\n",
    "    \n",
    "    #print(g)\n",
    "    \n",
    "    return g"
   ]
  },
  {
   "cell_type": "markdown",
   "metadata": {},
   "source": [
    "### ISS Test"
   ]
  },
  {
   "cell_type": "code",
   "execution_count": 14,
   "metadata": {},
   "outputs": [
    {
     "name": "stdout",
     "output_type": "stream",
     "text": [
      "6.67408e-11\n",
      "5.972e+24\n",
      "6378000.0\n",
      "8.66979393785442\n"
     ]
    }
   ],
   "source": [
    "# The following code compares the calculated gravity to that reported by the International Space Station\n",
    "\n",
    "G = 6.67408e-11 #m^3kg^-1s^-2\n",
    "M = 5.972e24 #kg\\\n",
    "seaLevel = 6378.0e3\n",
    "\n",
    "y = 402.336e3\n",
    "\n",
    "print(G)\n",
    "print(M)\n",
    "print(seaLevel)\n",
    "g = G*M/((y+seaLevel)**2)\n",
    "    \n",
    "print(g)"
   ]
  },
  {
   "cell_type": "markdown",
   "metadata": {},
   "source": [
    "## Previous Code\n",
    "The code in the cell below was written for a previous project involving a single projectile fired from a cannon.  This code neglects the change of air density at different altitudes, and the change in gravity at different altitudes.  The below code will be modified so that it no longer neglects these variables, and so that it outputs the components of the velocity at the given time, and its x and y coordinates at that given time."
   ]
  },
  {
   "cell_type": "code",
   "execution_count": 15,
   "metadata": {},
   "outputs": [
    {
     "data": {
      "image/png": "[encoded data removed]",
      "text/plain": [
       "<matplotlib.figure.Figure at 0x770eeb8>"
      ]
     },
     "metadata": {},
     "output_type": "display_data"
    }
   ],
   "source": [
    "def projectile_motion(delta_t,initial_v, theta, wind_speed,t):\n",
    "    \n",
    "    '''Uses the input values to calculate the final position of a cannon fired at a given velocity and angle.\n",
    "    \n",
    "    input(s):\n",
    "    delta_t the time steps\n",
    "    initial_v the initial velocity of the projectile\n",
    "    wind_speed the speed at which the wind is pushing against the cannon shell\n",
    "    \n",
    "    output(s):\n",
    "    the final x position of the cannon shell'''\n",
    "    \n",
    "    # This is where all constants are defined\n",
    "    g = 9.8\n",
    "    theta = math.pi/180*theta\n",
    "    drag_constant = 4*(10**-5)\n",
    "    \n",
    "    # This is where the initial positions and velocities of the cannon shell are set\n",
    "    x = []\n",
    "    y = []\n",
    "    x.append(0)\n",
    "    y.append(0)\n",
    "    x_velocity = initial_v*math.cos(theta)\n",
    "    y_velocity = initial_v*math.sin(theta) \n",
    "     \n",
    "    # This is where we perform the Euler Equations\n",
    "    for i in range(1,t,1):\n",
    "        x.append(x[i-1] + x_velocity*delta_t)\n",
    "        y.append(y[i-1] + y_velocity*delta_t)\n",
    "        altitude = y[i]\n",
    "        \n",
    "        # This is the code that adjusts for gravity at different altitudes, and air drag\n",
    "            \n",
    "        current_velocity = math.sqrt(x_velocity**2 + y_velocity**2)\n",
    "           \n",
    "            \n",
    "        if wind_speed == 0:\n",
    "            Fdrag = drag_constant*current_velocity**2\n",
    "            Fdrag_x = Fdrag*(x_velocity/current_velocity)\n",
    "            Fdrag_y = Fdrag*(y_velocity/current_velocity)\n",
    "\n",
    "            # This is where the new velocities are calculated\n",
    "            g = gravity(altitude)\n",
    "            y_velocity = y_velocity - g*delta_t - (Fdrag_y)*delta_t\n",
    "            x_velocity = x_velocity -  (Fdrag_x)*delta_t\n",
    "                \n",
    "        if wind_speed != 0:\n",
    "            Fdrag_x = drag_constant*abs(current_velocity - wind_speed)*(x_velocity-wind_speed)\n",
    "            Fdrag_y = drag_constant*abs(current_velocity - wind_speed)*y_velocity\n",
    "                \n",
    "            # This is where the new velocities are calculated with wind\n",
    "            g = gravity(altitude)\n",
    "            y_velocity = y_velocity - g*delta_t - (Fdrag_y)*delta_t\n",
    "            x_velocity = x_velocity -  (Fdrag_x)*delta_t\n",
    "        \n",
    "        if y[i] <= 0:\n",
    "            break\n",
    "        \n",
    "    theta = theta/math.pi*180    \n",
    "    plt.ylim(0,40000)\n",
    "    plt.xlim(0,70000)\n",
    "    plt.plot(x,y,label=\"%1.1f\"%(theta))         \n",
    "    plt.ylabel(\"y(m)\")\n",
    "    plt.xlabel(\"x(m)\")\n",
    "    plt.legend()    \n",
    "        \n",
    "N = (35,45,50)\n",
    "fig=plt.figure(figsize=(15, 8), dpi= 80, facecolor='w', edgecolor='k')\n",
    "\n",
    "for i in (N):\n",
    "    projectile_motion(0.01, 3500, i,0,15000)\n",
    "   \n",
    "       "
   ]
  },
  {
   "cell_type": "markdown",
   "metadata": {},
   "source": [
    "## Shooting Method Code\n"
   ]
  },
  {
   "cell_type": "code",
   "execution_count": 16,
   "metadata": {
    "collapsed": true
   },
   "outputs": [],
   "source": [
    "def velocity_components(tFinal, yFinal, xFinal):\n",
    "    \n",
    "    '''Uses the input values to calculate the x and y components of velocity for the friendly projectile\n",
    "    necessary to reach the given point at the given time.\n",
    "    \n",
    "    Inputs:\n",
    "    tFinal = the final time \n",
    "    yFinal = the final y position of the projectile\n",
    "    xFinal = the final x position of the projectile\n",
    "    \n",
    "    Outputs:\n",
    "    vx = the v component of the velocity necessary to reach the given point at the given time\n",
    "    vy = the y component of the velocit necessary to reach the given point at the given time'''\n",
    "\n",
    "    # Constants defined\n",
    "    g = 9.81 # The acceleration due to gravity in m/s^s\n",
    "    a = 0.0\n",
    "    b = tFinal  # Amount of time passed in seconds\n",
    "    N = 1000 # Number of Runge-Kutta steps\n",
    "    h = (b-a)/N\n",
    "    target = 1e-10 # Target accuracy\n",
    "\n",
    "    def f(r):\n",
    "        x = r[0]\n",
    "        y = r[1]\n",
    "        fx = y\n",
    "        fy = -g\n",
    "        return np.array([fx,fy],float)\n",
    "    \n",
    "    # The Fourth Order Runge-Kutta Method\n",
    "    def height(v):\n",
    "        \n",
    "        '''Function that solves the equation and calculates the final height using the Runge-Kutta method.\n",
    "        \n",
    "        Input:\n",
    "        v = the guessed velocity\n",
    "        \n",
    "        Output: \n",
    "        r[0] = the final height\n",
    "        '''\n",
    "        r = np.array([0.0,v],float)\n",
    "        for t in np.arange(a,b,h):\n",
    "            k1 = h*f(r)\n",
    "            k2 = h*f(r+0.5*k1)\n",
    "            k3 = h*f(r+0.5*k2)\n",
    "            k4 = h*f(r+k3)\n",
    "            r += (k1+2*k2+2*k3+k4)/6\n",
    "\n",
    "        return r[0]\n",
    "\n",
    "    v1 = 0.01 \n",
    "    v2 = 10000.0\n",
    "    h1 = height(v1)\n",
    "    h2 = height(v2)\n",
    "\n",
    "    while abs(h2-h1)>target:\n",
    "        vp = (v1+v2)/2\n",
    "        hp = height(vp)\n",
    "        if h1*hp>yFinal:  # final height of the projectile\n",
    "            v1 = vp\n",
    "            h1 = hp\n",
    "\n",
    "        else:\n",
    "            v2 = vp\n",
    "            h2 = hp\n",
    "\n",
    "    vy = (v1+v2)/2\n",
    "    vx = xFinal/tFinal\n",
    "    return(vx, vy)"
   ]
  },
  {
   "cell_type": "markdown",
   "metadata": {},
   "source": [
    "## Friendly Firing Parameters Code"
   ]
  },
  {
   "cell_type": "code",
   "execution_count": 1,
   "metadata": {
    "collapsed": true
   },
   "outputs": [],
   "source": [
    "def firing_parameters(vx, vy):\n",
    "    \n",
    "    '''Takes the given inputs and outputs the magnitude and angle that the friendly projectile must be fired at in order to\n",
    "    hit the enemy projectile\n",
    "    \n",
    "    Inputs:\n",
    "    vx = the x component of the velocity of our friendly projectile\n",
    "    vy = the y component of the velocity of our friendly projectile\n",
    "    \n",
    "    Outputs:\n",
    "    velocity = the magnitude of the velocity of our friendly projectile\n",
    "    angle_degrees = the angle at which our friendly projectile should be fired\n",
    "    \n",
    "    Example:\n",
    "    >>> firing_parameters(3,4)\n",
    "    (5.0, 53.13010235415599)'''\n",
    "    \n",
    "    velocity = math.sqrt(vx**2 + vy**2)\n",
    "    angle_radians = math.acos(vx/velocity)\n",
    "    angle_degrees = 180/math.pi*angle_radians\n",
    "    \n",
    "    return(velocity,angle_degrees)"
   ]
  },
  {
   "cell_type": "markdown",
   "metadata": {},
   "source": [
    "## Friend or Foe Projectile Motion Code"
   ]
  },
  {
   "cell_type": "code",
   "execution_count": 33,
   "metadata": {
    "collapsed": true
   },
   "outputs": [],
   "source": [
    "def projectile(theta, v0, deltaT, tFinal, fof, y0 = 0, x0 = 0):\n",
    "    \n",
    "    '''Takes the inputs to calculate and plot the x and y coordinates of a projectile at a given time.\n",
    "    \n",
    "    Inputs:\n",
    "    y0 = the initial y posisition of the projectile\n",
    "    x0 = the initial x position of the projectile\n",
    "    theta = the angle in degrees that the projectile is fired at\n",
    "    v0 = the initial velocity that the projectile is fired at\n",
    "    deltaT = the time between measurements\n",
    "    tFinal = the given final time\n",
    "    fof = friend or foe\n",
    "    \n",
    "    Outputs:\n",
    "    Plots the x and y coordinates of the projectile, and returns its x and y position at t final\n",
    "    '''\n",
    "    \n",
    "    # Constants Defined\n",
    "    g = 9.8\n",
    "    theta = math.pi/180*theta\n",
    "    \n",
    "    # Initial x and y components and values set and stored\n",
    "    x = []\n",
    "    y = []\n",
    "    x.append(x0)\n",
    "    y.append(y0)\n",
    "    vx = v0*math.cos(theta)\n",
    "    vy = v0*math.sin(theta) \n",
    "    \n",
    "    # Euler equations\n",
    "    for i in range(1,tFInal,1):\n",
    "        \n",
    "        # Euler equations for x and y position values\n",
    "        x.append(x[i-1] + vx*deltaT)\n",
    "        y.append(y[i-1] + vy*deltaT)\n",
    "        \n",
    "        # Euler equations for x and y velocity values\n",
    "        vx = vx\n",
    "        vy = vy -g*deltaT\n",
    "        \n",
    "     \n",
    "    plt.ylim(0,40000)\n",
    "    plt.xlim(0,70000)\n",
    "    plt.plot(x,y,label=\"%1.1f\"%(fof))         \n",
    "    plt.ylabel(\"y(m)\")\n",
    "    plt.xlabel(\"x(m)\")\n",
    "    plt.legend()\n",
    "    \n",
    "    return(x[tFinal], y[tFinal])"
   ]
  }
 ],
 "metadata": {
  "kernelspec": {
   "display_name": "Python 3",
   "language": "python",
   "name": "python3"
  },
  "language_info": {
   "codemirror_mode": {
    "name": "ipython",
    "version": 3
   },
   "file_extension": ".py",
   "mimetype": "text/x-python",
   "name": "python",
   "nbconvert_exporter": "python",
   "pygments_lexer": "ipython3",
   "version": "3.4.5"
  }
 },
 "nbformat": 4,
 "nbformat_minor": 1
}
