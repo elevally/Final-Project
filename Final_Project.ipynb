{
 "cells": [
  {
   "cell_type": "markdown",
   "metadata": {},
   "source": [
    "# Eric LeVally\n",
    "\n",
    "## Introduction\n",
    "\n",
    "A missile flying through the air can be considered a driven projectile in motion.  A missile propels itself by ejecting ignited fuel in the opposite direction of desired motion.  Other than this driving force, the only other forces acting on the missile that I will be modelling are the forces caused by the acceleration of gravity, and the drag force.  Both of these forces, in some way, depend on altitude.  The gravity at any given distance from the center of the Earth is given by the equation: \n",
    "$$g = GM/r^{2}$$ \n",
    "where G is the gravitational constant $6.67408 \\times 10^{-11}m^{3}kg^{-1}s^{-2}$, M is the mass of the Earth in kilograms ($5.972 \\times 10^{24}kg$), and r is the distance between the center of the Earth and the object in meters.  The magnitude of the drag force is given by the equation \n",
    "$$F_{drag} \\approx -C\\rho A \\upsilon^{2}$$\n",
    "where C is the drag coefficient, $\\rho$ is the density of the air, A is the frontal area of the object, and $\\upsilon$ is the velocity of the object.  This equation depends on the density of the air, which we know has different values at different altitudes.  The density of the air at a given altitude is given by the equation \n",
    "$$\\rho = \\rho_{0} exp(-y/y_{0})$$\n",
    "where y is the altitude, $y_{0} = 1.0 x 10^{4}m$ and $\\rho_{0}$ is the density at sea level (y=0).  This gives us that the drag force due to air resistance is actually \n",
    "$$F^{*}_{drag} = \\frac{\\rho}{\\rho_{0}}F_{drag}(y=0)$$ "
   ]
  },
  {
   "cell_type": "markdown",
   "metadata": {},
   "source": [
    "## Model\n",
    "\n",
    "Euler's method allows us to approximate values for a solution of a differential equation.  So long as we are given a starting value x at some t, then we can write the value of x a short interval $h$ later using a Taylor expansion.  So we have that: $x(t+h) = x(t) + h\\frac{dx}{dt} + \\frac{1}{2}h^{2}\\frac{d^{2}x}{dt^{2}} +...$ which gives us $x(t+h) = hf(x,t) + O(h^{2})$ where $O(h^{2})$ is a shorthand for all of the terms that go as $h^{2}$ and higher.  If $h$ is small, then $h^{2}$ is significantly smaller, and can be ignored.  This allows us to toss out $O(h^{2})$ and leaves us with the following equation.\n",
    "$$ x(t+h) = x(t) + hf(x,t) $$ \n",
    "So long as h remains small enough, we can see fairly accurate solutions to our differential equations.  This means that the relevant controlling equations are those of a projectile.  Using the Euler method, they are: \n",
    "\n",
    "$$  x_{i+1} = x_{i} + v_{x,i}\\Delta t$$  Where $x_{i+1}$ is the x value at the current step, $x_{i}$ is the x value at the previous step, $v_{x,i}$ is the current x component of the velocity, and $\\Delta t$ is the change in time between steps.\n",
    "\n",
    "$$  v_{x,i+1} =  v_{x,i}$$ Where $v_{x,i+1}$ is the current x component of the velocity and $v_{x,i}$ is the previous x component of the velocity.\n",
    "\n",
    "$$  y_{i+1} = y_{i} + v_{y,i}\\Delta t$$  Where $y_{i+1}$ is the y value at the current step, $y_{i}$ is the y value at the previous step, and $v_{y,i}$ is the current y component of the velocity.\n",
    "\n",
    "$$  v_{y,i+1} =  v_{y,i} - g\\Delta t$$  Where $v_{y,i+1}$ is the current y component of the velocity, $v_{y,i}$ is now the previous y component of the velocity, and $g$ is the acceleration of gravity.\n",
    "\n",
    "The Runge-Kutta method is a taylor series approximation of the solution, where there is an initial value problem defined as $\\dot x = f(t,y), (t_{0}) = y_{0}$.  In this model x is an unknown function of time.  The derivative of x ($\\dot x$) is a function of x and t.  The initial x value is $x_{0}$ and is found at time $t_{0}$.  With a step size h which is greater than zero, we can define the equation $x_{n+1} = x_{n} + \\frac{1}{6}(k_{1} +2k_{2} +2k_{3} +k_{4})$. Where $k_{1}$ is the increment based on the slope at the beginning of the interval.\n",
    "\n",
    "\n",
    "\n",
    "The boundaries of this scenario will be that the minimum initial velocity of each projectile will be 3,000 m/s and the maximum of each will be 3,500 m/s. The firing angles will be a minimum of 20 degrees and a maximum of 75 degrees.  The initial height of the missiles will be at least sea level, and at most 10 kilometers above sea level.\n",
    "A missile will be coming at us with a random velocity at a random angle, and the program will calculate and output the correct angle and speed that the friendly intercepting missile will need to fire at in order to intercept the incoming missile at a maximum possible height. The output of the program should be an angle and a velocity."
   ]
  },
  {
   "cell_type": "code",
   "execution_count": 3,
   "metadata": {
    "collapsed": true
   },
   "outputs": [],
   "source": [
    "import numpy as np\n",
    "import math\n",
    "import matplotlib.pyplot as plt\n",
    "%matplotlib inline\n"
   ]
  },
  {
   "cell_type": "markdown",
   "metadata": {},
   "source": [
    "## Shooting Method Code\n"
   ]
  },
  {
   "cell_type": "code",
   "execution_count": 39,
   "metadata": {},
   "outputs": [],
   "source": [
    "def velocity_components(tFinal, yFinal, xFinal):\n",
    "    \n",
    "    '''Uses the input values to calculate the x and y components of velocity for the friendly projectile\n",
    "    necessary to reach the given point at the given time.\n",
    "    \n",
    "    Inputs:\n",
    "    tFinal = the final time \n",
    "    yFinal = the final y position of the projectile\n",
    "    xFinal = the final x position of the projectile\n",
    "    \n",
    "    Outputs:\n",
    "    vx = the v component of the velocity necessary to reach the given point at the given time\n",
    "    vy = the y component of the velocit necessary to reach the given point at the given time'''\n",
    "\n",
    "    # Constants defined\n",
    "    g = 9.81 # The acceleration due to gravity in m/s^s\n",
    "    a = 0.0\n",
    "    b = tFinal  # Amount of time passed in seconds\n",
    "    N = 1000 # Number of Runge-Kutta steps\n",
    "    h = (b-a)/N\n",
    "    target = 1e-1 # Target accuracy\n",
    "\n",
    "    def f(r):\n",
    "        x = r[0]\n",
    "        y = r[1]\n",
    "        fx = y\n",
    "        fy = -g\n",
    "        return np.array([fx,fy],float)\n",
    "    \n",
    "    # The Fourth Order Runge-Kutta Method\n",
    "    def height(v):\n",
    "        \n",
    "        '''Function that solves the equation and calculates the final height using the Runge-Kutta method.\n",
    "        \n",
    "        Input:\n",
    "        v = the guessed velocity\n",
    "        \n",
    "        Output: \n",
    "        r[0] = the final height\n",
    "        '''\n",
    "        r = np.array([-yFinal,v],float)\n",
    "        for t in np.arange(a,b,h):\n",
    "            k1 = h*f(r)\n",
    "            k2 = h*f(r+0.5*k1)\n",
    "            k3 = h*f(r+0.5*k2)\n",
    "            k4 = h*f(r+k3)\n",
    "            r += (k1+2*k2+2*k3+k4)/6\n",
    "\n",
    "        return r[0]\n",
    "\n",
    "    v1 = 0.01 \n",
    "    v2 = 10000.0\n",
    "    h1 = height(v1)\n",
    "    h2 = height(v2)\n",
    "\n",
    "    while abs(h2-h1)>target:\n",
    "        vp = (v1+v2)/2\n",
    "        hp = height(vp)\n",
    "        if h1*hp>yFinal:  # final height of the projectile\n",
    "            v1 = vp\n",
    "            h1 = hp\n",
    "\n",
    "        else:\n",
    "            v2 = vp\n",
    "            h2 = hp\n",
    "\n",
    "    vy = (v1+v2)/2\n",
    "    vx = xFinal/tFinal\n",
    "    return(vx, vy)"
   ]
  },
  {
   "cell_type": "markdown",
   "metadata": {},
   "source": [
    "## Friendly Firing Parameters Code"
   ]
  },
  {
   "cell_type": "code",
   "execution_count": 40,
   "metadata": {
    "collapsed": true
   },
   "outputs": [],
   "source": [
    "def firing_parameters(vx, vy):\n",
    "    \n",
    "    '''Takes the given inputs and outputs the magnitude and angle that the friendly projectile must be fired at in order to\n",
    "    hit the enemy projectile\n",
    "    \n",
    "    Inputs:\n",
    "    vx = the x component of the velocity of our friendly projectile\n",
    "    vy = the y component of the velocity of our friendly projectile\n",
    "    \n",
    "    Outputs:\n",
    "    velocity = the magnitude of the velocity of our friendly projectile\n",
    "    angle_degrees = the angle at which our friendly projectile should be fired\n",
    "    \n",
    "    Example:\n",
    "    >>> firing_parameters(3,4)\n",
    "    (5.0, 53.13010235415599)'''\n",
    "    \n",
    "    velocity = math.sqrt(vx**2 + vy**2)\n",
    "    angle_radians = math.acos(vx/velocity)\n",
    "    angle_degrees = 180/math.pi*angle_radians\n",
    "    \n",
    "    return(velocity,angle_degrees)"
   ]
  },
  {
   "cell_type": "markdown",
   "metadata": {},
   "source": [
    "## 4th Order Runge-Kutta Code"
   ]
  },
  {
   "cell_type": "code",
   "execution_count": null,
   "metadata": {
    "collapsed": true
   },
   "outputs": [],
   "source": [
    "def Runge_Kutta(f, n, r0, interval, steps, tFinal, *args):\n",
    "    \n",
    "    \n",
    "    (a,b) = interval  # endpoints\n",
    "    h = (b-a)/steps  # step size\n",
    "    points = np.zeros((steps+1,n+1))\n",
    "    \n",
    "    # set up initial point\n",
    "    t = a    # current point t value\n",
    "    r = r0   # current point r value\n",
    "    points[0,0] = t\n",
    "    points[0,1:] = r\n",
    "    \n",
    "    for i in range(1,steps+1):\n",
    "        t_new = t + h\n",
    "        \n",
    "        k1 = h * f(t,r,*args)\n",
    "        k2 = h * f(t+1/2*h,r+1/2*k1,*args)\n",
    "        k3 = h * f(t+1/2*h,r+1/2*k2,*args)\n",
    "        k4 = h * f(t+h,r+k3,*args)\n",
    "        r_new = r + 1/6*(k1+2*k2+2*k3+k4)\n",
    "        \n",
    "        (t,r) = (t_new,r_new)\n",
    "        points[i,0] = t\n",
    "        points[i,1:] = r\n",
    "\n",
    "    return points"
   ]
  },
  {
   "cell_type": "markdown",
   "metadata": {},
   "source": [
    "## Friend or Foe Projectile Motion Code"
   ]
  },
  {
   "cell_type": "code",
   "execution_count": 81,
   "metadata": {
    "collapsed": true
   },
   "outputs": [],
   "source": [
    "def projectiles()\n",
    "\n",
    "    g = 9.81\n",
    "    interval = np.array([0,10],float)\n",
    "\n",
    "      def f(t,r):\n",
    "            x = r[0]\n",
    "            y = r[1]\n",
    "            fx = y\n",
    "            fy = -g\n",
    "            return np.array([fx,fy],float)\n",
    "\n",
    "    points = Runge_Kutta(f, 2, (r0, ))\n",
    "\n",
    "        def g(t,r):\n",
    "            x = r[0]\n",
    "            \n",
    "\n",
    "\n",
    "def projectile(theta, v0, deltaT, tFinal, fof, y0 = 0, x0 = 0):\n",
    "    \n",
    "    '''Takes the inputs to calculate and plot the x and y coordinates of a projectile at a given time.\n",
    "    \n",
    "    Inputs:\n",
    "    y0 = the initial y posisition of the projectile\n",
    "    x0 = the initial x position of the projectile\n",
    "    theta = the angle in degrees that the projectile is fired at\n",
    "    v0 = the initial velocity that the projectile is fired at\n",
    "    deltaT = the time between measurements\n",
    "    tFinal = the given final time\n",
    "    fof = friend or foe\n",
    "    \n",
    "    Outputs:\n",
    "    Plots the x and y coordinates of the projectile, and returns its x and y position at t final\n",
    "    '''\n",
    "    \n",
    "    # Constants Defined\n",
    "    g = 9.81\n",
    "    theta = math.pi/180*theta\n",
    "    \n",
    "    # Initial x and y components and values set and stored\n",
    "    x = []\n",
    "    y = []\n",
    "    x.append(x0)\n",
    "    y.append(y0)\n",
    "    vx = v0*math.cos(theta)\n",
    "    vy = v0*math.sin(theta) \n",
    "    \n",
    "    # Euler Method\n",
    "    for i in range(1,tFinal,1):\n",
    "        \n",
    "        # Euler equations for x and y position values\n",
    "        x.append(x[i-1] + vx*deltaT)\n",
    "        y.append(y[i-1] + vy*deltaT)\n",
    "        \n",
    "        # Euler equations for x and y velocity values\n",
    "        vx = vx\n",
    "        vy = vy -g*deltaT       \n",
    "        \n",
    "     \n",
    "    plt.ylim(0,40000)\n",
    "    plt.xlim(0,40000)\n",
    "    if fof == \"friend\":\n",
    "        plt.plot(x,y,label=\"Friend\")   \n",
    "    elif fof == \"foe\":\n",
    "        plt.plot(x,y,label=\"Foe\")\n",
    "    plt.ylabel(\"y(m)\")\n",
    "    plt.xlabel(\"x(m)\")\n",
    "    plt.legend()\n",
    "\n",
    "    print(\"Final x position = \", x[tFinal-1],\"Final y position = \", y[tFinal-1])"
   ]
  },
  {
   "cell_type": "code",
   "execution_count": 82,
   "metadata": {},
   "outputs": [
    {
     "name": "stdout",
     "output_type": "stream",
     "text": [
      "Final x position =  20943.4722470226 Final y position =  15019.967752977454\n",
      "vx = 300.39935505954907 vy =  661.631028174758\n",
      "v0 =  726.6329127997027 theta =  65.58059666679007\n",
      "Final x position =  14719.568397917908 Final y position =  20883.360380563172\n"
     ]
    },
    {
     "data": {
      "image/png": "[encoded data removed]",
      "text/plain": [
       "<matplotlib.figure.Figure at 0x8ee33c8>"
      ]
     },
     "metadata": {},
     "output_type": "display_data"
    }
   ],
   "source": [
    "projectile(135, 550, 1, 50, \"foe\", y0 = 7500, x0 = 40000)\n",
    "vx, vy = velocity_components(50, 20943.4722470226, 15019.967752977454)\n",
    "print(\"vx =\", vx, \"vy = \", vy)\n",
    "v0,theta = firing_parameters(vx, vy)\n",
    "print(\"v0 = \", v0, \"theta = \", theta)\n",
    "projectile(theta, v0, 1, 50, \"friend\", y0 = 0, x0 = 0)"
   ]
  },
  {
   "cell_type": "code",
   "execution_count": null,
   "metadata": {
    "collapsed": true
   },
   "outputs": [],
   "source": []
  }
 ],
 "metadata": {
  "kernelspec": {
   "display_name": "Python 3",
   "language": "python",
   "name": "python3"
  },
  "language_info": {
   "codemirror_mode": {
    "name": "ipython",
    "version": 3
   },
   "file_extension": ".py",
   "mimetype": "text/x-python",
   "name": "python",
   "nbconvert_exporter": "python",
   "pygments_lexer": "ipython3",
   "version": "3.4.5"
  }
 },
 "nbformat": 4,
 "nbformat_minor": 1
}
